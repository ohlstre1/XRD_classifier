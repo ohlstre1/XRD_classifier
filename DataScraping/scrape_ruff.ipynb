{
 "cells": [
  {
   "cell_type": "code",
   "execution_count": 3,
   "metadata": {},
   "outputs": [],
   "source": [
    "import os\n",
    "import pandas as pd\n",
    "import requests\n",
    "from tqdm import tqdm\n",
    "from bs4 import BeautifulSoup"
   ]
  },
  {
   "cell_type": "code",
   "execution_count": null,
   "metadata": {},
   "outputs": [],
   "source": [
    "def get_xray_raw_link(rruff_id):\n",
    "    url = f\"https://rruff.info/{rruff_id}/display=default/\"\n",
    "    response = requests.get(url)\n",
    "    if response.status_code == 200:\n",
    "        soup = BeautifulSoup(response.text, \"html.parser\")\n",
    "        for link in soup.find_all('a', href=True):\n",
    "            href = link['href']\n",
    "            if rruff_id in href and \"Powder__Xray\" in href and \"RAW\" in href:\n",
    "                return f\"{href}\"\n",
    "    print(f\"No matching RAW X-ray Powder file found for {rruff_id}\")\n",
    "    return None\n",
    "\n",
    "def download_xray_raw(csv_path, output_dir):\n",
    "    df = pd.read_csv(csv_path)\n",
    "    df = df.drop_duplicates(subset='RRUFFID', keep=False)\n",
    "    os.makedirs(output_dir, exist_ok=True)\n",
    "    \n",
    "    for index, row in tqdm(df.iterrows(), total=len(df), desc=\"Downloading X-ray RAW files\"):\n",
    "        row_id = index + 1\n",
    "        rruff_id = row['RRUFFID']\n",
    "        raw_link = get_xray_raw_link(rruff_id)\n",
    "        if raw_link:\n",
    "            response = requests.get(raw_link)\n",
    "            if response.status_code == 200:\n",
    "                raw_path = os.path.join(output_dir, f\"{rruff_id}.txt\")\n",
    "                with open(raw_path, 'wb') as file:\n",
    "                    file.write(response.content)\n",
    "            else:\n",
    "                print(f\"Failed to download RAW file for RRUFF ID {rruff_id}\")"
   ]
  },
  {
   "cell_type": "code",
   "execution_count": 5,
   "metadata": {},
   "outputs": [
    {
     "name": "stderr",
     "output_type": "stream",
     "text": [
      "Downloading X-ray RAW files:   0%|          | 0/60 [00:00<?, ?it/s]"
     ]
    },
    {
     "name": "stderr",
     "output_type": "stream",
     "text": [
      "Downloading X-ray RAW files:  27%|██▋       | 16/60 [00:37<01:31,  2.08s/it]"
     ]
    },
    {
     "name": "stdout",
     "output_type": "stream",
     "text": [
      "No matching RAW X-ray Powder file found for R060173\n"
     ]
    },
    {
     "name": "stderr",
     "output_type": "stream",
     "text": [
      "Downloading X-ray RAW files:  30%|███       | 18/60 [00:41<01:22,  1.97s/it]"
     ]
    },
    {
     "name": "stdout",
     "output_type": "stream",
     "text": [
      "No matching RAW X-ray Powder file found for R060543\n"
     ]
    },
    {
     "name": "stderr",
     "output_type": "stream",
     "text": [
      "Downloading X-ray RAW files:  32%|███▏      | 19/60 [00:42<01:14,  1.82s/it]"
     ]
    },
    {
     "name": "stdout",
     "output_type": "stream",
     "text": [
      "No matching RAW X-ray Powder file found for R060612\n"
     ]
    },
    {
     "name": "stderr",
     "output_type": "stream",
     "text": [
      "Downloading X-ray RAW files:  43%|████▎     | 26/60 [00:58<01:09,  2.04s/it]"
     ]
    },
    {
     "name": "stdout",
     "output_type": "stream",
     "text": [
      "No matching RAW X-ray Powder file found for R050156\n"
     ]
    },
    {
     "name": "stderr",
     "output_type": "stream",
     "text": [
      "Downloading X-ray RAW files:  48%|████▊     | 29/60 [01:04<01:00,  1.95s/it]"
     ]
    },
    {
     "name": "stdout",
     "output_type": "stream",
     "text": [
      "No matching RAW X-ray Powder file found for R060245\n"
     ]
    },
    {
     "name": "stderr",
     "output_type": "stream",
     "text": [
      "Downloading X-ray RAW files:  70%|███████   | 42/60 [01:35<00:38,  2.13s/it]"
     ]
    },
    {
     "name": "stdout",
     "output_type": "stream",
     "text": [
      "No matching RAW X-ray Powder file found for R050163\n"
     ]
    },
    {
     "name": "stderr",
     "output_type": "stream",
     "text": [
      "Downloading X-ray RAW files:  85%|████████▌ | 51/60 [01:56<00:19,  2.11s/it]"
     ]
    },
    {
     "name": "stdout",
     "output_type": "stream",
     "text": [
      "No matching RAW X-ray Powder file found for R050215\n"
     ]
    },
    {
     "name": "stderr",
     "output_type": "stream",
     "text": [
      "Downloading X-ray RAW files:  87%|████████▋ | 52/60 [01:57<00:14,  1.85s/it]"
     ]
    },
    {
     "name": "stdout",
     "output_type": "stream",
     "text": [
      "No matching RAW X-ray Powder file found for R050584\n"
     ]
    },
    {
     "name": "stderr",
     "output_type": "stream",
     "text": [
      "Downloading X-ray RAW files: 100%|██████████| 60/60 [02:16<00:00,  2.28s/it]\n"
     ]
    }
   ],
   "source": [
    "download_xray_raw('matching_compositions.csv', 'data/ruff')"
   ]
  }
 ],
 "metadata": {
  "kernelspec": {
   "display_name": "venv",
   "language": "python",
   "name": "python3"
  },
  "language_info": {
   "codemirror_mode": {
    "name": "ipython",
    "version": 3
   },
   "file_extension": ".py",
   "mimetype": "text/x-python",
   "name": "python",
   "nbconvert_exporter": "python",
   "pygments_lexer": "ipython3",
   "version": "3.10.11"
  }
 },
 "nbformat": 4,
 "nbformat_minor": 2
}
