{
 "cells": [
  {
   "cell_type": "code",
   "execution_count": 2,
   "metadata": {},
   "outputs": [],
   "source": [
    "import os\n",
    "import pandas as pd\n",
    "import requests\n",
    "from tqdm import tqdm"
   ]
  },
  {
   "cell_type": "code",
   "execution_count": 4,
   "metadata": {},
   "outputs": [],
   "source": [
    "def download_cif(csv_path, output_dir):\n",
    "    # Load the CSV file\n",
    "    df = pd.read_csv(csv_path)\n",
    "    df = df.drop_duplicates(subset='cod_id', keep=False)\n",
    "    # Create output_dir\n",
    "    os.makedirs(output_dir, exist_ok=True)\n",
    "    \n",
    "    for index, row in tqdm(df.iterrows(), total=len(df), desc=\"Downloading CIF files\"):\n",
    "        row_id = index + 1  # Row index as row_id (or change if another column represents row_id)\n",
    "        cod_id = row['cod_id']\n",
    "        \n",
    "        # Download CIF file\n",
    "        cif_url = f'https://www.crystallography.net/cod/{cod_id}.cif'\n",
    "        response = requests.get(cif_url)\n",
    "        try:\n",
    "            if response.status_code == 200:\n",
    "                cif_path = os.path.join(output_dir, f'{cod_id}.cif')\n",
    "                with open(cif_path, 'w', encoding='utf-8') as file:\n",
    "                    file.write(response.text)\n",
    "            else:\n",
    "                print(f'Failed to download CIF for COD ID {cod_id}')\n",
    "        except:\n",
    "            print(f'Download failed for: {cif_path}')"
   ]
  },
  {
   "cell_type": "code",
   "execution_count": 5,
   "metadata": {},
   "outputs": [
    {
     "name": "stderr",
     "output_type": "stream",
     "text": [
      "Downloading CIF files:   0%|          | 0/1574 [00:00<?, ?it/s]"
     ]
    },
    {
     "name": "stderr",
     "output_type": "stream",
     "text": [
      "Downloading CIF files: 100%|██████████| 1574/1574 [04:24<00:00,  5.96it/s]\n"
     ]
    }
   ],
   "source": [
    "# Example usage\n",
    "download_cif('matching_compositions.csv', 'data/cifs')"
   ]
  }
 ],
 "metadata": {
  "kernelspec": {
   "display_name": "venv",
   "language": "python",
   "name": "python3"
  },
  "language_info": {
   "codemirror_mode": {
    "name": "ipython",
    "version": 3
   },
   "file_extension": ".py",
   "mimetype": "text/x-python",
   "name": "python",
   "nbconvert_exporter": "python",
   "pygments_lexer": "ipython3",
   "version": "3.10.11"
  }
 },
 "nbformat": 4,
 "nbformat_minor": 2
}
